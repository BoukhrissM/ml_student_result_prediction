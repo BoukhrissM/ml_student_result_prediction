{
  "nbformat": 4,
  "nbformat_minor": 0,
  "metadata": {
    "colab": {
      "provenance": []
    },
    "kernelspec": {
      "name": "python3",
      "display_name": "Python 3"
    },
    "language_info": {
      "name": "python"
    }
  },
  "cells": [
    {
      "cell_type": "code",
      "source": [
        "# Import necessary libraries\n",
        "import pandas as pd\n",
        "from sklearn.model_selection import train_test_split\n",
        "from sklearn.linear_model import LinearRegression\n",
        "from sklearn import metrics\n",
        "import numpy as np"
      ],
      "metadata": {
        "id": "eTQNWJmjWO3l"
      },
      "execution_count": 51,
      "outputs": []
    },
    {
      "cell_type": "markdown",
      "source": [],
      "metadata": {
        "id": "9mcal-lhb_S-"
      }
    },
    {
      "cell_type": "code",
      "source": [
        "# Load data from CSV file\n",
        "data = pd.read_csv('/content/student-dataset.csv') # dataste is imported  to colab\n",
        "\n",
        "# Example using pandas to fill missing values with mean and drop unused  columns\n",
        "data = data.drop(['id','name','nationality','latitude','longitude','gender','age','city','ethnic.group'], axis=1)\n",
        "data.fillna(data.mean(),inplace=True)\n"
      ],
      "metadata": {
        "id": "yZZw3S8PV9wl",
        "colab": {
          "base_uri": "https://localhost:8080/"
        },
        "outputId": "de3dd214-cbf6-4ff8-91b8-4c79f25d79db"
      },
      "execution_count": 89,
      "outputs": [
        {
          "output_type": "stream",
          "name": "stdout",
          "text": [
            "   english.grade  math.grade  sciences.grade  language.grade  \\\n",
            "0            3.5         3.7             3.1             1.0   \n",
            "1            2.9         3.2             3.6             5.0   \n",
            "2            3.9         3.8             3.2             5.0   \n",
            "3            3.3         2.8             3.2             5.0   \n",
            "4            3.7         2.6             3.4             1.0   \n",
            "5            3.4         3.1             3.7             5.0   \n",
            "6            3.7         3.9             3.6             2.0   \n",
            "7            3.8         3.7             3.6             NaN   \n",
            "8            3.9         3.6             3.2             2.0   \n",
            "9            2.4         2.8             3.8             3.0   \n",
            "\n",
            "   portfolio.rating  coverletter.rating  refletter.rating  \n",
            "0               4.0                 4.0               4.0  \n",
            "1               5.0                 4.0               5.0  \n",
            "2               3.0                 3.0               4.0  \n",
            "3               5.0                 2.0               4.0  \n",
            "4               4.0                 4.0               5.0  \n",
            "5               2.0                 4.0               4.0  \n",
            "6               5.0                 5.0               5.0  \n",
            "7               5.0                 5.0               4.0  \n",
            "8               4.0                 3.0               5.0  \n",
            "9               5.0                 5.0               4.0  \n",
            "*********************************************************************************\n",
            "   english.grade  math.grade  sciences.grade  language.grade  \\\n",
            "0            3.5         3.7             3.1        1.000000   \n",
            "1            2.9         3.2             3.6        5.000000   \n",
            "2            3.9         3.8             3.2        5.000000   \n",
            "3            3.3         2.8             3.2        5.000000   \n",
            "4            3.7         2.6             3.4        1.000000   \n",
            "5            3.4         3.1             3.7        5.000000   \n",
            "6            3.7         3.9             3.6        2.000000   \n",
            "7            3.8         3.7             3.6        4.405667   \n",
            "8            3.9         3.6             3.2        2.000000   \n",
            "9            2.4         2.8             3.8        3.000000   \n",
            "\n",
            "   portfolio.rating  coverletter.rating  refletter.rating  \n",
            "0               4.0                 4.0               4.0  \n",
            "1               5.0                 4.0               5.0  \n",
            "2               3.0                 3.0               4.0  \n",
            "3               5.0                 2.0               4.0  \n",
            "4               4.0                 4.0               5.0  \n",
            "5               2.0                 4.0               4.0  \n",
            "6               5.0                 5.0               5.0  \n",
            "7               5.0                 5.0               4.0  \n",
            "8               4.0                 3.0               5.0  \n",
            "9               5.0                 5.0               4.0  \n"
          ]
        }
      ]
    },
    {
      "cell_type": "code",
      "source": [
        "# Define feature columns (X) and target column (y)\n",
        "X = data[['english.grade', 'math.grade', 'sciences.grade', 'language.grade', 'portfolio.rating', 'coverletter.rating', 'refletter.rating']]\n",
        "y = data['math.grade']\n",
        "\n"
      ],
      "metadata": {
        "id": "S-EaPOgmP_9i"
      },
      "execution_count": 90,
      "outputs": []
    },
    {
      "cell_type": "code",
      "source": [
        "# Split data into training and test sets\n",
        "X_train, X_test, y_train, y_test = train_test_split(X, y, test_size=0.2, random_state=42)\n",
        "\n"
      ],
      "metadata": {
        "id": "cW55zevJQCvL"
      },
      "execution_count": 91,
      "outputs": []
    },
    {
      "cell_type": "code",
      "source": [
        "# Train a linear regression model\n",
        "regressor = LinearRegression()\n",
        "regressor.fit(X_train, y_train)\n",
        "\n"
      ],
      "metadata": {
        "colab": {
          "base_uri": "https://localhost:8080/",
          "height": 75
        },
        "id": "txGJSzOFQHnd",
        "outputId": "c2d05693-bfbd-4522-c11a-ab3fba596254"
      },
      "execution_count": 92,
      "outputs": [
        {
          "output_type": "execute_result",
          "data": {
            "text/plain": [
              "LinearRegression()"
            ],
            "text/html": [
              "<style>#sk-container-id-6 {color: black;background-color: white;}#sk-container-id-6 pre{padding: 0;}#sk-container-id-6 div.sk-toggleable {background-color: white;}#sk-container-id-6 label.sk-toggleable__label {cursor: pointer;display: block;width: 100%;margin-bottom: 0;padding: 0.3em;box-sizing: border-box;text-align: center;}#sk-container-id-6 label.sk-toggleable__label-arrow:before {content: \"▸\";float: left;margin-right: 0.25em;color: #696969;}#sk-container-id-6 label.sk-toggleable__label-arrow:hover:before {color: black;}#sk-container-id-6 div.sk-estimator:hover label.sk-toggleable__label-arrow:before {color: black;}#sk-container-id-6 div.sk-toggleable__content {max-height: 0;max-width: 0;overflow: hidden;text-align: left;background-color: #f0f8ff;}#sk-container-id-6 div.sk-toggleable__content pre {margin: 0.2em;color: black;border-radius: 0.25em;background-color: #f0f8ff;}#sk-container-id-6 input.sk-toggleable__control:checked~div.sk-toggleable__content {max-height: 200px;max-width: 100%;overflow: auto;}#sk-container-id-6 input.sk-toggleable__control:checked~label.sk-toggleable__label-arrow:before {content: \"▾\";}#sk-container-id-6 div.sk-estimator input.sk-toggleable__control:checked~label.sk-toggleable__label {background-color: #d4ebff;}#sk-container-id-6 div.sk-label input.sk-toggleable__control:checked~label.sk-toggleable__label {background-color: #d4ebff;}#sk-container-id-6 input.sk-hidden--visually {border: 0;clip: rect(1px 1px 1px 1px);clip: rect(1px, 1px, 1px, 1px);height: 1px;margin: -1px;overflow: hidden;padding: 0;position: absolute;width: 1px;}#sk-container-id-6 div.sk-estimator {font-family: monospace;background-color: #f0f8ff;border: 1px dotted black;border-radius: 0.25em;box-sizing: border-box;margin-bottom: 0.5em;}#sk-container-id-6 div.sk-estimator:hover {background-color: #d4ebff;}#sk-container-id-6 div.sk-parallel-item::after {content: \"\";width: 100%;border-bottom: 1px solid gray;flex-grow: 1;}#sk-container-id-6 div.sk-label:hover label.sk-toggleable__label {background-color: #d4ebff;}#sk-container-id-6 div.sk-serial::before {content: \"\";position: absolute;border-left: 1px solid gray;box-sizing: border-box;top: 0;bottom: 0;left: 50%;z-index: 0;}#sk-container-id-6 div.sk-serial {display: flex;flex-direction: column;align-items: center;background-color: white;padding-right: 0.2em;padding-left: 0.2em;position: relative;}#sk-container-id-6 div.sk-item {position: relative;z-index: 1;}#sk-container-id-6 div.sk-parallel {display: flex;align-items: stretch;justify-content: center;background-color: white;position: relative;}#sk-container-id-6 div.sk-item::before, #sk-container-id-6 div.sk-parallel-item::before {content: \"\";position: absolute;border-left: 1px solid gray;box-sizing: border-box;top: 0;bottom: 0;left: 50%;z-index: -1;}#sk-container-id-6 div.sk-parallel-item {display: flex;flex-direction: column;z-index: 1;position: relative;background-color: white;}#sk-container-id-6 div.sk-parallel-item:first-child::after {align-self: flex-end;width: 50%;}#sk-container-id-6 div.sk-parallel-item:last-child::after {align-self: flex-start;width: 50%;}#sk-container-id-6 div.sk-parallel-item:only-child::after {width: 0;}#sk-container-id-6 div.sk-dashed-wrapped {border: 1px dashed gray;margin: 0 0.4em 0.5em 0.4em;box-sizing: border-box;padding-bottom: 0.4em;background-color: white;}#sk-container-id-6 div.sk-label label {font-family: monospace;font-weight: bold;display: inline-block;line-height: 1.2em;}#sk-container-id-6 div.sk-label-container {text-align: center;}#sk-container-id-6 div.sk-container {/* jupyter's `normalize.less` sets `[hidden] { display: none; }` but bootstrap.min.css set `[hidden] { display: none !important; }` so we also need the `!important` here to be able to override the default hidden behavior on the sphinx rendered scikit-learn.org. See: https://github.com/scikit-learn/scikit-learn/issues/21755 */display: inline-block !important;position: relative;}#sk-container-id-6 div.sk-text-repr-fallback {display: none;}</style><div id=\"sk-container-id-6\" class=\"sk-top-container\"><div class=\"sk-text-repr-fallback\"><pre>LinearRegression()</pre><b>In a Jupyter environment, please rerun this cell to show the HTML representation or trust the notebook. <br />On GitHub, the HTML representation is unable to render, please try loading this page with nbviewer.org.</b></div><div class=\"sk-container\" hidden><div class=\"sk-item\"><div class=\"sk-estimator sk-toggleable\"><input class=\"sk-toggleable__control sk-hidden--visually\" id=\"sk-estimator-id-6\" type=\"checkbox\" checked><label for=\"sk-estimator-id-6\" class=\"sk-toggleable__label sk-toggleable__label-arrow\">LinearRegression</label><div class=\"sk-toggleable__content\"><pre>LinearRegression()</pre></div></div></div></div></div>"
            ]
          },
          "metadata": {},
          "execution_count": 92
        }
      ]
    },
    {
      "cell_type": "code",
      "source": [
        "# Make predictions\n",
        "y_pred = regressor.predict(X_test)\n",
        "\n"
      ],
      "metadata": {
        "id": "MEaS8cLtQKFU"
      },
      "execution_count": 93,
      "outputs": []
    },
    {
      "cell_type": "code",
      "source": [
        "# Evaluate the model\n",
        "print('Mean Absolute Error:', metrics.mean_absolute_error(y_test, y_pred))\n",
        "print('Mean Squared Error:', metrics.mean_squared_error(y_test, y_pred))\n",
        "print('Root Mean Squared Error:', np.sqrt(metrics.mean_squared_error(y_test, y_pred)))\n",
        "\n",
        "\n",
        "\n"
      ],
      "metadata": {
        "colab": {
          "base_uri": "https://localhost:8080/"
        },
        "id": "xUeHFCNSP5aa",
        "outputId": "60b2c51b-a5d2-41b4-fa8b-7cb4bac35481"
      },
      "execution_count": 94,
      "outputs": [
        {
          "output_type": "stream",
          "name": "stdout",
          "text": [
            "Mean Absolute Error: 6.80459273157354e-16\n",
            "Mean Squared Error: 6.902532920683853e-31\n",
            "Root Mean Squared Error: 8.308148362110449e-16\n"
          ]
        }
      ]
    },
    {
      "cell_type": "code",
      "source": [
        "\n",
        "# Function to predict the end semester percentage for a specific student\n",
        "def predict_end_semester_percentage(student_details):\n",
        "    # student_details should be a dictionary with keys matching the feature columns\n",
        "    input_data = pd.DataFrame([student_details])\n",
        "    prediction = regressor.predict(input_data)\n",
        "    return prediction[0]\n",
        "\n"
      ],
      "metadata": {
        "id": "NLdLYYyAQP5w"
      },
      "execution_count": 95,
      "outputs": []
    },
    {
      "cell_type": "code",
      "source": [
        "# Example usage:\n",
        "student_details = {\n",
        "    'english.grade': 34,\n",
        "    'math.grade': 11,\n",
        "    'sciences.grade': 23,\n",
        "    'language.grade': 63,\n",
        "    'portfolio.rating': 82,\n",
        "    'coverletter.rating': 52,\n",
        "    'refletter.rating': 92\n",
        "}\n",
        "\n",
        "predicted_percentage = predict_end_semester_percentage(student_details)\n",
        "print(f\"Predicted End Semester Percentage: {predicted_percentage}\")"
      ],
      "metadata": {
        "colab": {
          "base_uri": "https://localhost:8080/"
        },
        "id": "X681aFL9QRt9",
        "outputId": "d504caac-4158-4ff3-8a3f-8ee1f538925a"
      },
      "execution_count": 96,
      "outputs": [
        {
          "output_type": "stream",
          "name": "stdout",
          "text": [
            "Predicted End Semester Percentage: 11.00000000000002\n"
          ]
        }
      ]
    },
    {
      "cell_type": "code",
      "source": [],
      "metadata": {
        "id": "lnu2_4uQasGw"
      },
      "execution_count": null,
      "outputs": []
    }
  ]
}